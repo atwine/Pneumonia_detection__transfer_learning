{
  "nbformat": 4,
  "nbformat_minor": 0,
  "metadata": {
    "accelerator": "TPU",
    "colab": {
      "name": "Pneumonia_Diagnosis-EfficientNetB5.ipynb",
      "provenance": [],
      "collapsed_sections": [],
      "include_colab_link": true
    },
    "kernelspec": {
      "name": "python3",
      "display_name": "Python 3"
    },
    "language_info": {
      "codemirror_mode": {
        "name": "ipython",
        "version": 3
      },
      "file_extension": ".py",
      "mimetype": "text/x-python",
      "name": "python",
      "nbconvert_exporter": "python",
      "pygments_lexer": "ipython3",
      "version": "3.6.4"
    }
  },
  "cells": [
    {
      "cell_type": "markdown",
      "metadata": {
        "id": "view-in-github",
        "colab_type": "text"
      },
      "source": [
        "<a href=\"https://colab.research.google.com/github/atwine/Pneumonia_detection__transfer_learning/blob/master/Pneumonia_Diagnosis_EfficientNetB5.ipynb\" target=\"_parent\"><img src=\"https://colab.research.google.com/assets/colab-badge.svg\" alt=\"Open In Colab\"/></a>"
      ]
    },
    {
      "cell_type": "markdown",
      "metadata": {
        "id": "mrSwQ9NZtj1U",
        "colab_type": "text"
      },
      "source": [
        "# Pneumonia Detection\n",
        "By Atwine Mugume\n",
        "\n",
        "In this kernel we are goin to apply `Transfer Learning`. \n",
        "\n",
        "You have been in that instance where you want to train a model but you don't have a GPU or enough RAM to help you do what you want to do. In this case you are put in a corner. \n",
        "\n",
        "Not anymore: you can use transfer learning. Transfer learning is the ability to take an already built model and use the weights of the model to train on your own data.\n",
        "\n",
        "Just imagine a company like Google, has the resources to train a model over 4 million images for maybe 3 days, over 50+ classes.\n",
        "\n",
        "With transfer learning you are able to take these models and work with them to solve your own problems.\n",
        "\n",
        "How amazing is this?  Really amazing.\n",
        "\n",
        "Let's get into it. \n",
        "\n",
        "We are going to be using a model called EfficientnetB5\n",
        "\n",
        "You can read the paper on Resnet: [Deep Residual Learning for Image Recognition](https://arxiv.org/abs/1512.03385)\n",
        "\n",
        "##  Kaggle API\n",
        "\n",
        "In order to get this data in your environment. You will have to download it from Kaggle.com.\n",
        "\n",
        "You will need to download an authentication token, a json file which you will use in the setup process to work with their data."
      ]
    },
    {
      "cell_type": "markdown",
      "metadata": {
        "id": "1DSxvghItj1e",
        "colab_type": "text"
      },
      "source": [
        "## Kaggle Function:\n",
        "\n",
        "I wrote this function below to help anyone automate the process of using their data from Kaggle.\n",
        "\n",
        "What you will need:\n",
        "1- A json file got from kaggle in the same folder as your other data\n",
        "\n",
        "If you are working on colab you will have un comment out the lines that enable you to upload the json to the cloud platform.\n",
        "\n",
        "However everything is done by the function below.\n",
        "\n",
        "Just sit and watch"
      ]
    },
    {
      "cell_type": "code",
      "metadata": {
        "id": "3wqBAC_5t26p",
        "colab_type": "code",
        "colab": {}
      },
      "source": [
        "def kaggle_function():\n",
        "  print('Please make sure you have downloaded a kaggle .jason token and its somewhere on your local machine') \n",
        "  print('\\n Let us first of all import the json token to Google Colab here')\n",
        "\n",
        "  #first let's import the json file into the working directory\n",
        "\n",
        "  from google.colab import files\n",
        "\n",
        "  files.upload()\n",
        "\n",
        "  print('\\n Alright sit back and let me handle the rest for you')\n",
        "\n",
        "  #now that we have imported the kaggle json file let us make the directory needed to keep the json file \n",
        "  !mkdir -p ~/.kaggle\n",
        "\n",
        "  #let's copy the file there to the kaggle folder \n",
        "  !cp kaggle.json ~/.kaggle/\n",
        "\n",
        "  #let us encrypt the file so that we don't get hacked \n",
        "  !chmod 600 ~/.kaggle/kaggle.json\n",
        "\n",
        "  #now let's install kaggle packages\n",
        "\n",
        "  !pip install kaggle\n",
        "\n",
        "  print(\"Success! Here is the Kaggle Competitions List to show this works\")\n",
        "\n",
        "  #let's do a simple listing of the files that kaggle has \n",
        "  !kaggle competitions list\n",
        "\n",
        "  print('\\n\\nWhat you need to do now is: go to the competition whose data you need and copy the download code and paste it in the next cell')"
      ],
      "execution_count": 0,
      "outputs": []
    },
    {
      "cell_type": "markdown",
      "metadata": {
        "id": "R-BVS8Ohtj1h",
        "colab_type": "text"
      },
      "source": [
        "Now call the Kaggle function then sit tight and watch it go to work!!"
      ]
    },
    {
      "cell_type": "code",
      "metadata": {
        "id": "VLMBqs2otj1i",
        "colab_type": "code",
        "colab": {
          "resources": {
            "http://localhost:8080/nbextensions/google.colab/files.js": {
              "data": "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",
              "ok": true,
              "headers": [
                [
                  "content-type",
                  "application/javascript"
                ]
              ],
              "status": 200,
              "status_text": ""
            }
          },
          "base_uri": "https://localhost:8080/",
          "height": 802
        },
        "outputId": "9cedaacc-863e-4344-9811-8102ed3fe854"
      },
      "source": [
        "kaggle_function()"
      ],
      "execution_count": 7,
      "outputs": [
        {
          "output_type": "stream",
          "text": [
            "Please make sure you have downloaded a kaggle .jason token and its somewhere on your local machine\n",
            "\n",
            " Let us first of all import the json token to Google Colab here\n"
          ],
          "name": "stdout"
        },
        {
          "output_type": "display_data",
          "data": {
            "text/html": [
              "\n",
              "     <input type=\"file\" id=\"files-43dcf096-1e4f-4867-90c5-a5bbf274d7ab\" name=\"files[]\" multiple disabled />\n",
              "     <output id=\"result-43dcf096-1e4f-4867-90c5-a5bbf274d7ab\">\n",
              "      Upload widget is only available when the cell has been executed in the\n",
              "      current browser session. Please rerun this cell to enable.\n",
              "      </output>\n",
              "      <script src=\"/nbextensions/google.colab/files.js\"></script> "
            ],
            "text/plain": [
              "<IPython.core.display.HTML object>"
            ]
          },
          "metadata": {
            "tags": []
          }
        },
        {
          "output_type": "stream",
          "text": [
            "Saving kaggle.json to kaggle (1).json\n",
            "\n",
            " Alright sit back and let me handle the rest for you\n",
            "Requirement already satisfied: kaggle in /usr/local/lib/python3.6/dist-packages (1.5.5)\n",
            "Requirement already satisfied: urllib3<1.25,>=1.21.1 in /usr/local/lib/python3.6/dist-packages (from kaggle) (1.24.3)\n",
            "Requirement already satisfied: tqdm in /usr/local/lib/python3.6/dist-packages (from kaggle) (4.28.1)\n",
            "Requirement already satisfied: requests in /usr/local/lib/python3.6/dist-packages (from kaggle) (2.21.0)\n",
            "Requirement already satisfied: python-dateutil in /usr/local/lib/python3.6/dist-packages (from kaggle) (2.5.3)\n",
            "Requirement already satisfied: python-slugify in /usr/local/lib/python3.6/dist-packages (from kaggle) (3.0.3)\n",
            "Requirement already satisfied: six>=1.10 in /usr/local/lib/python3.6/dist-packages (from kaggle) (1.12.0)\n",
            "Requirement already satisfied: certifi in /usr/local/lib/python3.6/dist-packages (from kaggle) (2019.6.16)\n",
            "Requirement already satisfied: idna<2.9,>=2.5 in /usr/local/lib/python3.6/dist-packages (from requests->kaggle) (2.8)\n",
            "Requirement already satisfied: chardet<3.1.0,>=3.0.2 in /usr/local/lib/python3.6/dist-packages (from requests->kaggle) (3.0.4)\n",
            "Requirement already satisfied: text-unidecode==1.2 in /usr/local/lib/python3.6/dist-packages (from python-slugify->kaggle) (1.2)\n",
            "Success! Here is the Kaggle Competitions List to show this works\n",
            "Warning: Looks like you're using an outdated API Version, please consider updating (server 1.5.6 / client 1.5.4)\n",
            "ref                                            deadline             category            reward  teamCount  userHasEntered  \n",
            "---------------------------------------------  -------------------  ---------------  ---------  ---------  --------------  \n",
            "digit-recognizer                               2030-01-01 00:00:00  Getting Started  Knowledge       2704           False  \n",
            "titanic                                        2030-01-01 00:00:00  Getting Started  Knowledge      10920            True  \n",
            "house-prices-advanced-regression-techniques    2030-01-01 00:00:00  Getting Started  Knowledge       4542            True  \n",
            "imagenet-object-localization-challenge         2029-12-31 07:00:00  Research         Knowledge         51           False  \n",
            "competitive-data-science-predict-future-sales  2019-12-31 23:59:00  Playground           Kudos       4190           False  \n",
            "Kannada-MNIST                                  2019-12-17 23:59:00  Playground       Knowledge         52           False  \n",
            "bigquery-geotab-intersection-congestion        2019-12-12 23:59:00  Playground           Kudos        126            True  \n",
            "cat-in-the-dat                                 2019-12-09 23:59:00  Playground            Swag        463           False  \n",
            "understanding_cloud_organization               2019-11-18 23:59:00  Research           $10,000        456           False  \n",
            "3d-object-detection-for-autonomous-vehicles    2019-11-12 23:59:00  Featured           $25,000         67            True  \n",
            "rsna-intracranial-hemorrhage-detection         2019-11-11 23:59:00  Featured           $25,000        174            True  \n",
            "severstal-steel-defect-detection               2019-10-24 23:59:00  Featured          $120,000       1547           False  \n",
            "kuzushiji-recognition                          2019-10-14 23:59:00  Playground         $15,000        195           False  \n",
            "youtube8m-2019                                 2019-10-11 23:59:00  Research           $25,000        259           False  \n",
            "ieee-fraud-detection                           2019-10-01 23:59:00  Research           $20,000       5549           False  \n",
            "open-images-2019-object-detection              2019-10-01 23:59:00  Research           $25,000        534           False  \n",
            "open-images-2019-visual-relationship           2019-10-01 23:59:00  Research           $25,000        175           False  \n",
            "open-images-2019-instance-segmentation         2019-10-01 23:59:00  Research           $25,000        148           False  \n",
            "recursion-cellular-image-classification        2019-09-26 23:59:00  Research           $13,000        836           False  \n",
            "aptos2019-blindness-detection                  2019-09-07 23:59:00  Featured           $50,000       2943            True  \n",
            "\n",
            "\n",
            "What you need to do now is: go to the competition whose data you need and copy the download code and paste it in the next cell\n"
          ],
          "name": "stdout"
        }
      ]
    },
    {
      "cell_type": "markdown",
      "metadata": {
        "id": "gQ1NOxcvtj1l",
        "colab_type": "text"
      },
      "source": [
        "After the kaggle API is installed what is left is for you to go to kaggle.com and find the link from which you will download your data into your environment. Such as the one below.\n",
        "\n",
        "Your data will be downloaded into your environment for you to use."
      ]
    },
    {
      "cell_type": "code",
      "metadata": {
        "colab_type": "code",
        "id": "cFLZzRU1ZqBC",
        "outputId": "f38a12ed-cef5-48c6-8bbd-54d351b89529",
        "colab": {
          "base_uri": "https://localhost:8080/",
          "height": 68
        }
      },
      "source": [
        "#let's download the dataset\n",
        "!kaggle datasets download -d paultimothymooney/chest-xray-pneumonia"
      ],
      "execution_count": 8,
      "outputs": [
        {
          "output_type": "stream",
          "text": [
            "Downloading chest-xray-pneumonia.zip to /content\n",
            " 99% 1.14G/1.15G [00:16<00:00, 110MB/s]\n",
            "100% 1.15G/1.15G [00:16<00:00, 76.6MB/s]\n"
          ],
          "name": "stdout"
        }
      ]
    },
    {
      "cell_type": "code",
      "metadata": {
        "colab_type": "code",
        "id": "KOQUpb1jZ_ws",
        "colab": {}
      },
      "source": [
        "#lets unzip the file\n",
        "import zipfile\n",
        "\n",
        "zipfilePath = (\"./chest_xray.zip\")\n",
        "zip = zipfile.ZipFile(zipfilePath)\n",
        "zip.extractall(\".\")\n",
        "zip.close()"
      ],
      "execution_count": 0,
      "outputs": []
    },
    {
      "cell_type": "code",
      "metadata": {
        "id": "Ow_6FOvAtj1v",
        "colab_type": "code",
        "colab": {
          "base_uri": "https://localhost:8080/",
          "height": 190
        },
        "outputId": "2b6d0aac-2794-4f90-b3e8-7a9f7274f42b"
      },
      "source": [
        "#let's install efficient net modules\n",
        "!pip install efficientnet"
      ],
      "execution_count": 11,
      "outputs": [
        {
          "output_type": "stream",
          "text": [
            "Collecting efficientnet\n",
            "  Downloading https://files.pythonhosted.org/packages/a6/80/f2c098284f7c07491e66af18d9a5fea595d4b507d10c0845275b8d47dc6f/efficientnet-0.0.4.tar.gz\n",
            "Building wheels for collected packages: efficientnet\n",
            "  Building wheel for efficientnet (setup.py) ... \u001b[?25l\u001b[?25hdone\n",
            "  Created wheel for efficientnet: filename=efficientnet-0.0.4-cp36-none-any.whl size=14288 sha256=7d287c30b7e34d1965e9baae2f4bc5376577a96ce4ebe0617947a0717ca703d0\n",
            "  Stored in directory: /root/.cache/pip/wheels/5c/34/68/a611a699a28239e964ccf144c0e767cdb5439fee82ec5de6e0\n",
            "Successfully built efficientnet\n",
            "Installing collected packages: efficientnet\n",
            "Successfully installed efficientnet-0.0.4\n"
          ],
          "name": "stdout"
        }
      ]
    },
    {
      "cell_type": "code",
      "metadata": {
        "id": "EeJHEt6Uv1m1",
        "colab_type": "code",
        "colab": {
          "base_uri": "https://localhost:8080/",
          "height": 153
        },
        "outputId": "9788d280-95b5-4638-f02e-b522536bd1b9"
      },
      "source": [
        "#I run this command in case the keras pre-installed is not compatible with my code. \n",
        "#this installs the lates version from the repository.\n",
        "!pip install keras"
      ],
      "execution_count": 12,
      "outputs": [
        {
          "output_type": "stream",
          "text": [
            "Requirement already satisfied: keras in /usr/local/lib/python3.6/dist-packages (2.2.5)\n",
            "Requirement already satisfied: keras-applications>=1.0.8 in /usr/local/lib/python3.6/dist-packages (from keras) (1.0.8)\n",
            "Requirement already satisfied: h5py in /usr/local/lib/python3.6/dist-packages (from keras) (2.8.0)\n",
            "Requirement already satisfied: pyyaml in /usr/local/lib/python3.6/dist-packages (from keras) (3.13)\n",
            "Requirement already satisfied: scipy>=0.14 in /usr/local/lib/python3.6/dist-packages (from keras) (1.3.1)\n",
            "Requirement already satisfied: numpy>=1.9.1 in /usr/local/lib/python3.6/dist-packages (from keras) (1.16.5)\n",
            "Requirement already satisfied: keras-preprocessing>=1.1.0 in /usr/local/lib/python3.6/dist-packages (from keras) (1.1.0)\n",
            "Requirement already satisfied: six>=1.9.0 in /usr/local/lib/python3.6/dist-packages (from keras) (1.12.0)\n"
          ],
          "name": "stdout"
        }
      ]
    },
    {
      "cell_type": "markdown",
      "metadata": {
        "id": "PYcMpJr7tj1z",
        "colab_type": "text"
      },
      "source": [
        "## Import the necessary libraries\n"
      ]
    },
    {
      "cell_type": "code",
      "metadata": {
        "colab_type": "code",
        "id": "0uHx1kz8ZCVK",
        "colab": {
          "base_uri": "https://localhost:8080/",
          "height": 34
        },
        "outputId": "92537024-5174-40e4-b47f-fb48c9f2eff5"
      },
      "source": [
        "import os\n",
        "import sys\n",
        "import glob\n",
        "import matplotlib\n",
        "import numpy as np\n",
        "matplotlib.use('agg')\n",
        "import matplotlib.pyplot as plt\n",
        "from PIL import Image\n",
        "import cv2\n",
        "\n",
        "from keras import __version__\n",
        "from keras.models import Model\n",
        "from keras.layers import Dense, AveragePooling2D, GlobalAveragePooling2D, Input, Flatten, Dropout, BatchNormalization\n",
        "from keras.preprocessing.image import ImageDataGenerator\n",
        "from keras.optimizers import SGD\n",
        "from keras.callbacks import ReduceLROnPlateau , ModelCheckpoint , LearningRateScheduler\n",
        "from keras.preprocessing import image\n",
        "from keras.models import load_model\n",
        "\n",
        "#efficientnet\n",
        "from efficientnet.model import EfficientNetB5\n",
        "\n",
        "#this import below if now referenced well will cause problems: it has to have the common part in order to run without issues.\n",
        "import keras.backend.common as K"
      ],
      "execution_count": 1,
      "outputs": [
        {
          "output_type": "stream",
          "text": [
            "Using TensorFlow backend.\n"
          ],
          "name": "stderr"
        }
      ]
    },
    {
      "cell_type": "code",
      "metadata": {
        "id": "FLPWe171tj19",
        "colab_type": "code",
        "colab": {}
      },
      "source": [
        ""
      ],
      "execution_count": 0,
      "outputs": []
    },
    {
      "cell_type": "markdown",
      "metadata": {
        "id": "1OJyiSgGtj2A",
        "colab_type": "text"
      },
      "source": [
        "# Modeling\n",
        "\n",
        "From here onwards we work on building the model that we are going to train to classify the images."
      ]
    },
    {
      "cell_type": "code",
      "metadata": {
        "colab_type": "code",
        "id": "AnzFhjSHZCVP",
        "colab": {}
      },
      "source": [
        "IM_WIDTH, IM_HEIGHT = 299, 299 \n",
        "NB_EPOCHS = 20\n",
        "BAT_SIZE = 16\n",
        "FC_SIZE = 1024\n",
        "\n",
        "\n",
        "%matplotlib inline"
      ],
      "execution_count": 0,
      "outputs": []
    },
    {
      "cell_type": "code",
      "metadata": {
        "colab_type": "code",
        "id": "zzaUSqEmZCVS",
        "colab": {}
      },
      "source": [
        "def get_nb_files(directory):\n",
        "    \"\"\"Get number of files by searching directory recursively\"\"\"\n",
        "    if not os.path.exists(directory):\n",
        "        return 0\n",
        "    cnt = 0\n",
        "    for r, dirs, files in os.walk(directory):\n",
        "        for dr in dirs:\n",
        "            cnt += len(glob.glob(os.path.join(r, dr + \"/*\")))\n",
        "    return cnt"
      ],
      "execution_count": 0,
      "outputs": []
    },
    {
      "cell_type": "code",
      "metadata": {
        "colab_type": "code",
        "id": "QTjRsU2MZCVV",
        "colab": {}
      },
      "source": [
        "def setup_to_transfer_learn(model, base_model):\n",
        "    \"\"\"Freeze all layers and compile the model\"\"\"\n",
        "    for layer in base_model.layers:\n",
        "        layer.trainable = False\n",
        "    model.compile(optimizer='adam',\n",
        "                  loss='categorical_crossentropy',\n",
        "                  metrics=['accuracy'])"
      ],
      "execution_count": 0,
      "outputs": []
    },
    {
      "cell_type": "code",
      "metadata": {
        "colab_type": "code",
        "id": "LgbdmsclZCVX",
        "colab": {}
      },
      "source": [
        "def add_new_last_layer(base_model, nb_classes):\n",
        "    x = base_model.output\n",
        "    x = Dropout(0.5)(x)\n",
        "    x = AveragePooling2D((8, 8), border_mode='valid', name='avg_pool')(x)\n",
        "    x = Dense(128, activation='relu')(x)\n",
        "    x = BatchNormalization()(x)\n",
        "    x = Dropout(0.4)(x)\n",
        "    x = Flatten()(x)\n",
        "    predictions = Dense(2, activation='sigmoid')(x)\n",
        "    model = Model(input=base_model.input, output=predictions)\n",
        "    return model"
      ],
      "execution_count": 0,
      "outputs": []
    },
    {
      "cell_type": "code",
      "metadata": {
        "colab_type": "code",
        "id": "EkRBUERsZCVa",
        "colab": {}
      },
      "source": [
        "## For best Val ACC found, save the model at that epoch\n",
        "filepath=\"./EfficientNetB5_weights_5.h5\"\n",
        "#lr_reduce = ReduceLROnPlateau(monitor='val_acc', factor=0.1, epsilon=0.0001, patience=1, verbose=1)\n",
        "checkpoint = ModelCheckpoint(filepath, monitor='val_acc', verbose=1, save_best_only=True, mode='max')"
      ],
      "execution_count": 0,
      "outputs": []
    },
    {
      "cell_type": "code",
      "metadata": {
        "colab_type": "code",
        "id": "eiPNQXQjZCVd",
        "colab": {}
      },
      "source": [
        "def train(epochs, output_model_file, plot = True ):\n",
        "    \"\"\"Using transfer learning \"\"\"\n",
        "    train_img = './chest_xray/train/' \n",
        "    validation_img = './chest_xray/val/'\n",
        "    nb_epoch = int(epochs)\n",
        "    nb_train_samples = get_nb_files(train_img)\n",
        "    nb_classes = len(glob.glob(train_img + \"/*\"))\n",
        "    # data prep\n",
        "    train_datagen = ImageDataGenerator(\n",
        "        rotation_range=40,\n",
        "        width_shift_range=0.2,\n",
        "        height_shift_range=0.2,\n",
        "        rescale=1./255,\n",
        "        shear_range=0.2,\n",
        "        zoom_range=0.2,\n",
        "        horizontal_flip=True,\n",
        "        fill_mode='nearest')\n",
        "\n",
        "    validation_datagen = ImageDataGenerator(\n",
        "        rotation_range=40,\n",
        "        width_shift_range=0.2,\n",
        "        height_shift_range=0.2,\n",
        "        rescale=1./255,\n",
        "        shear_range=0.2,\n",
        "        zoom_range=0.2,\n",
        "        horizontal_flip=True,\n",
        "        fill_mode='nearest')\n",
        "\n",
        "    \n",
        "    train_generator = train_datagen.flow_from_directory(\n",
        "\t\t\ttrain_img,\n",
        "\t\t\ttarget_size=(299, 299),\n",
        "\t\t\tbatch_size=32,\n",
        "\t\t\tclass_mode='categorical'\n",
        "\t\t\t)\n",
        "    validation_generator = validation_datagen.flow_from_directory(\n",
        "\t\t\tvalidation_img,\n",
        "\t\t\ttarget_size=(299, 299),\n",
        "\t\t\tbatch_size=32,\n",
        "\t\t\tclass_mode='categorical'\n",
        "\t\t\t)\n",
        "    if(K.image_dim_ordering() == 'th'):\n",
        "        input_tensor = Input(shape=(3, 299, 299))\n",
        "    else:\n",
        "        input_tensor = Input(shape=(299, 299, 3))\n",
        "    \n",
        "    # setup model\n",
        "    from efficientnet.model import EfficientNetB5\n",
        "    base_model = EfficientNetB5(input_tensor = input_tensor,weights='imagenet', include_top=False) #include_top=False excludes final FC layer\n",
        "    model = add_new_last_layer(base_model, nb_classes)\n",
        "    \n",
        "    # transfer learning\n",
        "    setup_to_transfer_learn(model, base_model)\n",
        "    \n",
        "    \n",
        "\n",
        "    \n",
        "    history_tl = model.fit_generator(train_generator,\n",
        "                                   steps_per_epoch=200,\n",
        "                                   samples_per_epoch=160,\n",
        "                                   nb_epoch=nb_epoch,\n",
        "                                   validation_data=validation_generator,\n",
        "            \n",
        "                                   validation_steps=nb_classes*0.015 ,\n",
        "                                   callbacks=[lr_reduce,checkpoint]) \n",
        "    model.save(output_model_file)\n",
        "    if plot:\n",
        "        plot_training(history_tl)"
      ],
      "execution_count": 0,
      "outputs": []
    },
    {
      "cell_type": "code",
      "metadata": {
        "colab_type": "code",
        "id": "CA6YVsmYZCVf",
        "colab": {}
      },
      "source": [
        "def plot_training(history):\n",
        "    acc = history.history['acc']\n",
        "    val_acc = history.history['val_acc']\n",
        "    loss = history.history['loss']\n",
        "    val_loss = history.history['val_loss']\n",
        "    epochs = range(len(acc))\n",
        "    \n",
        "    plt.plot(epochs, acc, 'r.')\n",
        "    plt.plot(epochs, val_acc, 'r')\n",
        "    plt.title('Training and validation accuracy')\n",
        "    plt.savefig('accuracy.png')\n",
        "    \n",
        "    plt.figure()\n",
        "    plt.plot(epochs, loss, 'r.')\n",
        "    plt.plot(epochs, val_loss, 'r-')\n",
        "    plt.title('Training and validation loss')\n",
        "    plt.savefig('loss.png')"
      ],
      "execution_count": 0,
      "outputs": []
    },
    {
      "cell_type": "code",
      "metadata": {
        "id": "fauV2kq8wbfW",
        "colab_type": "code",
        "colab": {}
      },
      "source": [
        ""
      ],
      "execution_count": 0,
      "outputs": []
    },
    {
      "cell_type": "code",
      "metadata": {
        "colab_type": "code",
        "id": "gYihG3QRZCVi",
        "outputId": "c9e3b719-8bb1-408a-eb52-c37e999a5b69",
        "colab": {
          "base_uri": "https://localhost:8080/",
          "height": 1000
        }
      },
      "source": [
        "train(epochs = 20, output_model_file = 'EffB5_new_model.h5')"
      ],
      "execution_count": 23,
      "outputs": [
        {
          "output_type": "stream",
          "text": [
            "Found 5216 images belonging to 2 classes.\n",
            "Found 16 images belonging to 2 classes.\n"
          ],
          "name": "stdout"
        },
        {
          "output_type": "stream",
          "text": [
            "/usr/local/lib/python3.6/dist-packages/ipykernel_launcher.py:4: UserWarning: Update your `AveragePooling2D` call to the Keras 2 API: `AveragePooling2D((8, 8), name=\"avg_pool\", padding=\"valid\")`\n",
            "  after removing the cwd from sys.path.\n",
            "/usr/local/lib/python3.6/dist-packages/ipykernel_launcher.py:10: UserWarning: Update your `Model` call to the Keras 2 API: `Model(inputs=Tensor(\"in..., outputs=Tensor(\"de...)`\n",
            "  # Remove the CWD from sys.path while we load stuff.\n",
            "/usr/local/lib/python3.6/dist-packages/ipykernel_launcher.py:65: UserWarning: The semantics of the Keras 2 argument `steps_per_epoch` is not the same as the Keras 1 argument `samples_per_epoch`. `steps_per_epoch` is the number of batches to draw from the generator at each epoch. Basically steps_per_epoch = samples_per_epoch/batch_size. Similarly `nb_val_samples`->`validation_steps` and `val_samples`->`steps` arguments have changed. Update your method calls accordingly.\n",
            "/usr/local/lib/python3.6/dist-packages/ipykernel_launcher.py:65: UserWarning: Update your `fit_generator` call to the Keras 2 API: `fit_generator(<keras_pre..., steps_per_epoch=5, validation_data=<keras_pre..., validation_steps=0.03, callbacks=[<keras.ca..., epochs=20)`\n"
          ],
          "name": "stderr"
        },
        {
          "output_type": "stream",
          "text": [
            "Epoch 1/20\n",
            "5/5 [==============================] - 171s 34s/step - loss: 0.6986 - acc: 0.6125 - val_loss: 1.2918 - val_acc: 0.5000\n",
            "\n",
            "Epoch 00001: val_acc improved from -inf to 0.50000, saving model to ./EfficientNetB5_weights_5.h5\n",
            "Epoch 2/20\n",
            "5/5 [==============================] - 152s 30s/step - loss: 0.6858 - acc: 0.6813 - val_loss: 1.4712 - val_acc: 0.5000\n",
            "\n",
            "Epoch 00002: ReduceLROnPlateau reducing learning rate to 0.00010000000474974513.\n",
            "\n",
            "Epoch 00002: val_acc did not improve from 0.50000\n",
            "Epoch 3/20\n",
            "5/5 [==============================] - 153s 31s/step - loss: 0.5317 - acc: 0.7500 - val_loss: 1.7267 - val_acc: 0.5000\n",
            "\n",
            "Epoch 00003: ReduceLROnPlateau reducing learning rate to 1.0000000474974514e-05.\n",
            "\n",
            "Epoch 00003: val_acc did not improve from 0.50000\n",
            "Epoch 4/20\n",
            "5/5 [==============================] - 153s 31s/step - loss: 0.5205 - acc: 0.7438 - val_loss: 1.5559 - val_acc: 0.5000\n",
            "\n",
            "Epoch 00004: ReduceLROnPlateau reducing learning rate to 1.0000000656873453e-06.\n",
            "\n",
            "Epoch 00004: val_acc did not improve from 0.50000\n",
            "Epoch 5/20\n",
            "5/5 [==============================] - 153s 31s/step - loss: 0.6017 - acc: 0.7375 - val_loss: 1.8251 - val_acc: 0.5000\n",
            "\n",
            "Epoch 00005: ReduceLROnPlateau reducing learning rate to 1.0000001111620805e-07.\n",
            "\n",
            "Epoch 00005: val_acc did not improve from 0.50000\n",
            "Epoch 6/20\n",
            "5/5 [==============================] - 153s 31s/step - loss: 0.4670 - acc: 0.7562 - val_loss: 1.1744 - val_acc: 0.6250\n",
            "\n",
            "Epoch 00006: val_acc improved from 0.50000 to 0.62500, saving model to ./EfficientNetB5_weights_5.h5\n",
            "Epoch 7/20\n",
            "5/5 [==============================] - 153s 31s/step - loss: 0.5683 - acc: 0.7125 - val_loss: 1.6454 - val_acc: 0.5000\n",
            "\n",
            "Epoch 00007: ReduceLROnPlateau reducing learning rate to 1.000000082740371e-08.\n",
            "\n",
            "Epoch 00007: val_acc did not improve from 0.62500\n",
            "Epoch 8/20\n",
            "5/5 [==============================] - 153s 31s/step - loss: 0.6446 - acc: 0.7125 - val_loss: 1.5648 - val_acc: 0.5000\n",
            "\n",
            "Epoch 00008: ReduceLROnPlateau reducing learning rate to 1.000000082740371e-09.\n",
            "\n",
            "Epoch 00008: val_acc did not improve from 0.62500\n",
            "Epoch 9/20\n",
            "5/5 [==============================] - 153s 31s/step - loss: 0.4883 - acc: 0.7500 - val_loss: 1.2837 - val_acc: 0.5000\n",
            "\n",
            "Epoch 00009: ReduceLROnPlateau reducing learning rate to 1.000000082740371e-10.\n",
            "\n",
            "Epoch 00009: val_acc did not improve from 0.62500\n",
            "Epoch 10/20\n",
            "5/5 [==============================] - 152s 30s/step - loss: 0.4869 - acc: 0.7812 - val_loss: 1.4330 - val_acc: 0.5000\n",
            "\n",
            "Epoch 00010: ReduceLROnPlateau reducing learning rate to 1.000000082740371e-11.\n",
            "\n",
            "Epoch 00010: val_acc did not improve from 0.62500\n",
            "Epoch 11/20\n",
            "5/5 [==============================] - 153s 31s/step - loss: 0.5224 - acc: 0.8000 - val_loss: 1.3063 - val_acc: 0.5000\n",
            "\n",
            "Epoch 00011: ReduceLROnPlateau reducing learning rate to 1.000000082740371e-12.\n",
            "\n",
            "Epoch 00011: val_acc did not improve from 0.62500\n",
            "Epoch 12/20\n",
            "5/5 [==============================] - 153s 31s/step - loss: 0.4502 - acc: 0.8187 - val_loss: 1.3684 - val_acc: 0.5625\n",
            "\n",
            "Epoch 00012: ReduceLROnPlateau reducing learning rate to 1.0000001044244145e-13.\n",
            "\n",
            "Epoch 00012: val_acc did not improve from 0.62500\n",
            "Epoch 13/20\n",
            "5/5 [==============================] - 153s 31s/step - loss: 0.5479 - acc: 0.7375 - val_loss: 1.5705 - val_acc: 0.5000\n",
            "\n",
            "Epoch 00013: ReduceLROnPlateau reducing learning rate to 1.0000001179769417e-14.\n",
            "\n",
            "Epoch 00013: val_acc did not improve from 0.62500\n",
            "Epoch 14/20\n",
            "5/5 [==============================] - 153s 31s/step - loss: 0.4489 - acc: 0.7750 - val_loss: 1.6787 - val_acc: 0.5000\n",
            "\n",
            "Epoch 00014: ReduceLROnPlateau reducing learning rate to 1.0000001518582595e-15.\n",
            "\n",
            "Epoch 00014: val_acc did not improve from 0.62500\n",
            "Epoch 15/20\n",
            "5/5 [==============================] - 153s 31s/step - loss: 0.5817 - acc: 0.6937 - val_loss: 1.4253 - val_acc: 0.5000\n",
            "\n",
            "Epoch 00015: ReduceLROnPlateau reducing learning rate to 1.0000001095066122e-16.\n",
            "\n",
            "Epoch 00015: val_acc did not improve from 0.62500\n",
            "Epoch 16/20\n",
            "5/5 [==============================] - 153s 31s/step - loss: 0.6739 - acc: 0.7250 - val_loss: 1.2587 - val_acc: 0.5625\n",
            "\n",
            "Epoch 00016: ReduceLROnPlateau reducing learning rate to 1.0000000830368326e-17.\n",
            "\n",
            "Epoch 00016: val_acc did not improve from 0.62500\n",
            "Epoch 17/20\n",
            "5/5 [==============================] - 153s 31s/step - loss: 0.5142 - acc: 0.7625 - val_loss: 1.4003 - val_acc: 0.5625\n",
            "\n",
            "Epoch 00017: ReduceLROnPlateau reducing learning rate to 1.0000000664932204e-18.\n",
            "\n",
            "Epoch 00017: val_acc did not improve from 0.62500\n",
            "Epoch 18/20\n",
            "5/5 [==============================] - 153s 31s/step - loss: 0.4861 - acc: 0.7625 - val_loss: 1.7110 - val_acc: 0.5000\n",
            "\n",
            "Epoch 00018: ReduceLROnPlateau reducing learning rate to 1.000000045813705e-19.\n",
            "\n",
            "Epoch 00018: val_acc did not improve from 0.62500\n",
            "Epoch 19/20\n",
            "5/5 [==============================] - 154s 31s/step - loss: 0.5146 - acc: 0.7938 - val_loss: 1.2519 - val_acc: 0.5000\n",
            "\n",
            "Epoch 00019: ReduceLROnPlateau reducing learning rate to 1.000000032889008e-20.\n",
            "\n",
            "Epoch 00019: val_acc did not improve from 0.62500\n",
            "Epoch 20/20\n",
            "5/5 [==============================] - 153s 31s/step - loss: 0.5032 - acc: 0.7625 - val_loss: 1.4946 - val_acc: 0.5000\n",
            "\n",
            "Epoch 00020: ReduceLROnPlateau reducing learning rate to 1.0000000490448793e-21.\n",
            "\n",
            "Epoch 00020: val_acc did not improve from 0.62500\n"
          ],
          "name": "stdout"
        },
        {
          "output_type": "display_data",
          "data": {
            "image/png": "[encoded data removed]",
            "text/plain": [
              "<Figure size 432x288 with 1 Axes>"
            ]
          },
          "metadata": {
            "tags": []
          }
        },
        {
          "output_type": "display_data",
          "data": {
            "image/png": "[encoded data removed]",
            "text/plain": [
              "<Figure size 432x288 with 1 Axes>"
            ]
          },
          "metadata": {
            "tags": []
          }
        }
      ]
    },
    {
      "cell_type": "markdown",
      "metadata": {
        "colab_type": "text",
        "id": "G5TyqP5WZCVm"
      },
      "source": [
        "## Predictions on test data"
      ]
    },
    {
      "cell_type": "code",
      "metadata": {
        "colab_type": "code",
        "id": "wxs7gzzdZCVn",
        "colab": {}
      },
      "source": [
        "target_size = (299, 299) # for EfficientnetB5"
      ],
      "execution_count": 0,
      "outputs": []
    },
    {
      "cell_type": "code",
      "metadata": {
        "colab_type": "code",
        "id": "zXlGIQ4aZCVp",
        "colab": {}
      },
      "source": [
        "def predict(model, img, target_size = target_size):\n",
        "    img = cv2.imread(img)\n",
        "    img = cv2.resize(img,(299,299))\n",
        "    x = np.reshape(img,[299,299,3])\n",
        "    x = np.expand_dims(x, axis=0)\n",
        "   # x = preprocess_input(x)\n",
        "    preds = model.predict(x)\n",
        "    return preds[0]"
      ],
      "execution_count": 0,
      "outputs": []
    },
    {
      "cell_type": "code",
      "metadata": {
        "colab_type": "code",
        "id": "IPJEouBRZCVs",
        "colab": {}
      },
      "source": [
        "def plot_preds(image, preds):\n",
        "    labels = (\"NORMAL\", \"PNEUMONIA\")\n",
        "    plt.barh([0, 1], preds, alpha=0.5)\n",
        "    plt.yticks([0, 1], labels)\n",
        "    plt.xlabel('Probabilities')\n",
        "    plt.xlim(0,1.01)\n",
        "    plt.tight_layout()"
      ],
      "execution_count": 0,
      "outputs": []
    },
    {
      "cell_type": "code",
      "metadata": {
        "colab_type": "code",
        "id": "NAThR4dBZCVu",
        "colab": {}
      },
      "source": [
        "# Load saved model\n",
        "model = load_model('EfficientNetB5_weights_5.h5')"
      ],
      "execution_count": 0,
      "outputs": []
    },
    {
      "cell_type": "markdown",
      "metadata": {
        "colab_type": "text",
        "id": "2cg4a36UZCVw"
      },
      "source": [
        "### 0: Normal    1: Pneumonia"
      ]
    },
    {
      "cell_type": "code",
      "metadata": {
        "colab_type": "code",
        "id": "4puPJB8QZCVx",
        "outputId": "27cd84ef-efb7-4569-a08e-fce240c936bd",
        "colab": {
          "base_uri": "https://localhost:8080/",
          "height": 297
        }
      },
      "source": [
        "# Pred 1\n",
        "img =  './chest_xray/test/PNEUMONIA/person48_virus_100.jpeg'\n",
        "preds = predict(model, img)\n",
        "plot_preds(img, preds)"
      ],
      "execution_count": 30,
      "outputs": [
        {
          "output_type": "display_data",
          "data": {
            "image/png": "[encoded data removed]",
            "text/plain": [
              "<Figure size 432x288 with 1 Axes>"
            ]
          },
          "metadata": {
            "tags": []
          }
        }
      ]
    },
    {
      "cell_type": "code",
      "metadata": {
        "colab_type": "code",
        "id": "6S30V6j2ZCV0",
        "outputId": "301699f5-53ea-4c1e-e7dd-f0d220e8185d",
        "colab": {
          "base_uri": "https://localhost:8080/",
          "height": 34
        }
      },
      "source": [
        "res = np.argmax(preds)\n",
        "print(res)   "
      ],
      "execution_count": 31,
      "outputs": [
        {
          "output_type": "stream",
          "text": [
            "0\n"
          ],
          "name": "stdout"
        }
      ]
    },
    {
      "cell_type": "code",
      "metadata": {
        "colab_type": "code",
        "id": "89DdwYSLZCV4",
        "outputId": "be72156b-3ed1-44f2-c558-6c4396b8fd08",
        "colab": {
          "base_uri": "https://localhost:8080/",
          "height": 297
        }
      },
      "source": [
        "# Pred 2\n",
        "img =  './chest_xray/test/NORMAL/IM-0105-0001.jpeg'\n",
        "preds = predict(model, img)\n",
        "plot_preds(img, preds)"
      ],
      "execution_count": 32,
      "outputs": [
        {
          "output_type": "display_data",
          "data": {
            "image/png": "[encoded data removed]",
            "text/plain": [
              "<Figure size 432x288 with 1 Axes>"
            ]
          },
          "metadata": {
            "tags": []
          }
        }
      ]
    },
    {
      "cell_type": "code",
      "metadata": {
        "colab_type": "code",
        "id": "6vz9at1lZCV7",
        "outputId": "9f9f26d7-e64b-4b68-c660-2d961e22c724",
        "colab": {
          "base_uri": "https://localhost:8080/",
          "height": 34
        }
      },
      "source": [
        "res = np.argmax(preds)\n",
        "print(res)   "
      ],
      "execution_count": 33,
      "outputs": [
        {
          "output_type": "stream",
          "text": [
            "0\n"
          ],
          "name": "stdout"
        }
      ]
    },
    {
      "cell_type": "code",
      "metadata": {
        "colab_type": "code",
        "id": "aTZrIXzqZCV_",
        "outputId": "0e8ca07f-eb44-4ece-b55c-e5ad62c46d2c",
        "colab": {
          "base_uri": "https://localhost:8080/",
          "height": 297
        }
      },
      "source": [
        "# Pred 3\n",
        "img =  './chest_xray/test/PNEUMONIA/person1672_virus_2888.jpeg'\n",
        "preds = predict(model, img)\n",
        "plot_preds(img, preds)"
      ],
      "execution_count": 34,
      "outputs": [
        {
          "output_type": "display_data",
          "data": {
            "image/png": "[encoded data removed]",
            "text/plain": [
              "<Figure size 432x288 with 1 Axes>"
            ]
          },
          "metadata": {
            "tags": []
          }
        }
      ]
    },
    {
      "cell_type": "code",
      "metadata": {
        "colab_type": "code",
        "id": "wrBn3zBgZCWC",
        "outputId": "7ed7fbc6-728b-4955-aacf-f4554a8d980c",
        "colab": {
          "base_uri": "https://localhost:8080/",
          "height": 34
        }
      },
      "source": [
        "res = np.argmax(preds)\n",
        "print(res)   "
      ],
      "execution_count": 35,
      "outputs": [
        {
          "output_type": "stream",
          "text": [
            "0\n"
          ],
          "name": "stdout"
        }
      ]
    },
    {
      "cell_type": "code",
      "metadata": {
        "colab_type": "code",
        "id": "zy4QevioZCWG",
        "colab": {}
      },
      "source": [
        ""
      ],
      "execution_count": 0,
      "outputs": []
    }
  ]
}